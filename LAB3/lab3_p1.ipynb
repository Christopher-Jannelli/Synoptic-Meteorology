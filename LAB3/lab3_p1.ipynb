{
 "cells": [
  {
   "cell_type": "code",
   "execution_count": 1,
   "id": "ad9b19f7-2ab9-4dab-91e6-2194476eb1b4",
   "metadata": {},
   "outputs": [],
   "source": [
    "import sys\n",
    "sys.path.append('/home/decker/lab433')\n",
    "\n",
    "from datetime import datetime\n",
    "\n",
    "from synoptic import MODEL, display_grids\n",
    "\n",
    "from metpy.units import units\n",
    "from metpy.constants import dry_air_gas_constant as R\n",
    "from metpy.io import GempakGrid\n",
    "import metpy.calc as mpcalc\n",
    "from metpy.plots import FilledContourPlot, MapPanel, PanelContainer, ContourPlot\n",
    "import numpy as np\n",
    "import xarray as xr"
   ]
  },
  {
   "cell_type": "code",
   "execution_count": 2,
   "id": "575ae5b6-2b54-4d94-b6c4-ee3cdb785769",
   "metadata": {},
   "outputs": [
    {
     "data": {
      "text/plain": [
       "<metpy.io.GempakGrid at 0x7f07d1a40e10>"
      ]
     },
     "execution_count": 2,
     "metadata": {},
     "output_type": "execute_result"
    }
   ],
   "source": [
    "gem_file_name = '/home/decker/lab433/group/10102600_namqg.gem'\n",
    "gem_file = GempakGrid(gem_file_name)\n",
    "plot_time = datetime(2010, 10, 26, 0)\n",
    "\n",
    "ht300 = gem_file.gdxarray(parameter='HGHT', date_time=plot_time, level=300)[0]\n",
    "u300 = gem_file.gdxarray(parameter='UREL', date_time=plot_time, level=300)[0]\n",
    "v300 = gem_file.gdxarray(parameter='VREL', date_time=plot_time, level=300)[0]\n",
    "T300 = gem_file.gdxarray(parameter='TMPK', date_time=plot_time, level=850)[0]\n",
    "\n",
    "gem_file\n",
    "\n",
    "# ht300 = ht300 * units('m')\n",
    "# u300 = u300 * units('m/s')\n",
    "# v300 = v300 * units('m/s')\n",
    "\n",
    "# ageostrophic_wind = mpcalc.ageostrophic_wind(ht300, u300, v300)\n",
    "\n",
    "# pressure = 300 * units('hPa')\n",
    "# # print(mpcalc.ageostrophic_wind(ht300, u300, v300))\n",
    "# u_ag, v_ag = mpcalc.ageostrophic_wind(ht300, u300, v300)\n",
    "# PT = mpcalc.potential_temperature(pressure, T300 * units.kelvin)\n",
    "# PV = mpcalc.potential_vorticity_baroclinic(PT, pressure, u300, v300)"
   ]
  },
  {
   "cell_type": "code",
   "execution_count": 3,
   "id": "b6da2c2f-6d30-4a00-b677-fb07d9c8fc6f",
   "metadata": {},
   "outputs": [
    {
     "ename": "NameError",
     "evalue": "name 'PV' is not defined",
     "output_type": "error",
     "traceback": [
      "\u001b[0;31m---------------------------------------------------------------------------\u001b[0m",
      "\u001b[0;31mNameError\u001b[0m                                 Traceback (most recent call last)",
      "Cell \u001b[0;32mIn[3], line 11\u001b[0m\n\u001b[1;32m      8\u001b[0m cp\u001b[38;5;241m.\u001b[39mplot_units \u001b[38;5;241m=\u001b[39m \u001b[38;5;124m'\u001b[39m\u001b[38;5;124mmeters\u001b[39m\u001b[38;5;124m'\u001b[39m\n\u001b[1;32m     10\u001b[0m cpos \u001b[38;5;241m=\u001b[39m ContourPlot()\n\u001b[0;32m---> 11\u001b[0m cpos\u001b[38;5;241m.\u001b[39mdata \u001b[38;5;241m=\u001b[39m \u001b[43mPV\u001b[49m\n\u001b[1;32m     12\u001b[0m cpos\u001b[38;5;241m.\u001b[39mtime \u001b[38;5;241m=\u001b[39m plot_time\n\u001b[1;32m     13\u001b[0m cpos\u001b[38;5;241m.\u001b[39mcontours \u001b[38;5;241m=\u001b[39m \u001b[38;5;28mrange\u001b[39m(\u001b[38;5;241m1\u001b[39m, \u001b[38;5;241m17\u001b[39m, \u001b[38;5;241m5\u001b[39m)\n",
      "\u001b[0;31mNameError\u001b[0m: name 'PV' is not defined"
     ]
    }
   ],
   "source": [
    "cp = ContourPlot()\n",
    "cp.data = ht300.isel(x=range(20,80))\n",
    "cp.time = plot_time\n",
    "cp.contours = range(0, 11000, 120)\n",
    "cp.linecolor = 'lime'\n",
    "cp.linestyle = 'solid'\n",
    "cp.clabels = True\n",
    "cp.plot_units = 'meters'\n",
    "\n",
    "cpos = ContourPlot()\n",
    "cpos.data = PV\n",
    "cpos.time = plot_time\n",
    "cpos.contours = range(1, 17, 5)\n",
    "cpos.linecolor = 'red'\n",
    "cpos.linestyle = 'dashed'\n",
    "cpos.clabels = True\n",
    "cpos.plot_units = 's^-1'\n",
    "cpos.scale = 1e5\n",
    "\n",
    "cneg = ContourPlot()\n",
    "cneg.data = PV\n",
    "cneg.time = plot_time\n",
    "cneg.contours = range(-17, -1, 5)\n",
    "cneg.linecolor = 'blue'\n",
    "cneg.linestyle = 'dashed'\n",
    "cneg.clabels = True\n",
    "cneg.plot_units = 's^-1'\n",
    "cneg.scale = 1e5\n",
    "\n",
    "fill = FilledContourPlot()\n",
    "fill.data = PV\n",
    "fill.time = plot_time\n",
    "fill.contours = range(-17, 17, 1)\n",
    "fill.colormap = 'seismic'\n",
    "fill.colorbar = 'horizontal'\n",
    "fill.scale = 1e5\n",
    "#fill.plot_units = 's^-1'\n",
    "\n",
    "panel = MapPanel()\n",
    "panel.area = [-120, -74, 22, 55]\n",
    "panel.projection = 'lcc'\n",
    "panel.layers = ['states', 'coastline', 'borders']\n",
    "panel.title = f'300-mb Heights and Ageostrophic Wind Divergence at {plot_time}'\n",
    "panel.plots = [cp, cpos, cneg, fill]"
   ]
  },
  {
   "cell_type": "code",
   "execution_count": null,
   "id": "ab4cf984-2bc4-4992-ac94-612e368e3b27",
   "metadata": {},
   "outputs": [],
   "source": [
    "pc = PanelContainer()\n",
    "pc.size = (15, 15)\n",
    "pc.panels = [panel]\n",
    "pc.show()\n",
    "pc.save('lab3_p1.svg', bbox_inches='tight', dpi=300)"
   ]
  },
  {
   "cell_type": "code",
   "execution_count": null,
   "id": "bea957b4-b4ef-4fe9-9788-c21c65ce7080",
   "metadata": {},
   "outputs": [],
   "source": []
  }
 ],
 "metadata": {
  "kernelspec": {
   "display_name": "Python 3 (met_course)",
   "language": "python",
   "name": "python3-met_course"
  },
  "language_info": {
   "codemirror_mode": {
    "name": "ipython",
    "version": 3
   },
   "file_extension": ".py",
   "mimetype": "text/x-python",
   "name": "python",
   "nbconvert_exporter": "python",
   "pygments_lexer": "ipython3",
   "version": "3.11.7"
  }
 },
 "nbformat": 4,
 "nbformat_minor": 5
}
