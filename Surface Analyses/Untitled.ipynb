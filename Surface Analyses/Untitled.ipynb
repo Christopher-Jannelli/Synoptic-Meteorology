{
 "cells": [
  {
   "cell_type": "code",
   "execution_count": null,
   "id": "1b0ecb13-48be-4189-ba83-dec8d805f2d1",
   "metadata": {},
   "outputs": [],
   "source": [
    "import sys\n",
    "sys.path.append('/home/decker/lab433')\n",
    "from synoptic import get_nam212\n",
    "\n",
    "from datetime import datetime, timedelta\n",
    "import xarray as xr\n",
    "from metpy.units import units\n",
    "import metpy.calc as mpcalc\n",
    "from metpy.plots import ContourPlot, FilledContourPlot, BarbPlot, MapPanel, PanelContainer"
   ]
  },
  {
   "cell_type": "code",
   "execution_count": null,
   "id": "e8c68fa9-b608-4571-92b8-3a27604957bb",
   "metadata": {},
   "outputs": [],
   "source": [
    "init_time = datetime(2024, 11, 6, 12)\n",
    "plot_time = init_time + timedelta(hours=54)\n",
    "nam = get_nam212(init_time, plot_time)\n",
    "\n",
    "gemname = '/ldsdata/cases/synoptic'\n",
    "gem_file_name = gemname + '10102600_namqg.gem'\n",
    "gem_file = GempakGrid(gem_file_name)\n",
    "plot_time = datetime(2010, 10, 26, 0)"
   ]
  },
  {
   "cell_type": "code",
   "execution_count": null,
   "id": "ef13f3ca-7d6e-4c03-9792-841aca0b2f38",
   "metadata": {},
   "outputs": [],
   "source": []
  }
 ],
 "metadata": {
  "kernelspec": {
   "display_name": "Python 3 (met_course)",
   "language": "python",
   "name": "python3-met_course"
  },
  "language_info": {
   "codemirror_mode": {
    "name": "ipython",
    "version": 3
   },
   "file_extension": ".py",
   "mimetype": "text/x-python",
   "name": "python",
   "nbconvert_exporter": "python",
   "pygments_lexer": "ipython3",
   "version": "3.11.7"
  }
 },
 "nbformat": 4,
 "nbformat_minor": 5
}
