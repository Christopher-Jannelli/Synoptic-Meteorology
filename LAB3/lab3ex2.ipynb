{
 "cells": [
  {
   "cell_type": "markdown",
   "id": "d322304b-2e57-46de-9b8f-25aee5fcac20",
   "metadata": {},
   "source": [
    "# Some Examples with Calculation: Absolute Vorticity and Temperature Advection\n",
    "\n",
    "## Imports"
   ]
  },
  {
   "cell_type": "code",
   "execution_count": 1,
   "id": "d464ea6c-fee0-459f-a5c5-1cbc42f9cd6f",
   "metadata": {},
   "outputs": [],
   "source": [
    "import sys\n",
    "sys.path.append('/home/decker/lab433')\n",
    "\n",
    "from synoptic import MODEL, display_grids\n",
    "\n",
    "from datetime import datetime\n",
    "\n",
    "import numpy as np\n",
    "import xarray as xr\n",
    "from metpy.io import GempakGrid\n",
    "from metpy.units import units\n",
    "from metpy.plots.declarative import ContourPlot, FilledContourPlot, BarbPlot, MapPanel, PanelContainer\n",
    "import metpy.calc as mpcalc"
   ]
  },
  {
   "cell_type": "markdown",
   "id": "a9ddb607-912b-45ab-93b2-62d8785e961d",
   "metadata": {},
   "source": [
    "## Get the Data"
   ]
  },
  {
   "cell_type": "code",
   "execution_count": 2,
   "id": "1b15c8dd-9f36-48de-93df-9feb3edc8a54",
   "metadata": {},
   "outputs": [],
   "source": [
    "gem_file_name = MODEL + 'nam/24112200_nam211.gem'\n",
    "gem_file = GempakGrid(gem_file_name)"
   ]
  },
  {
   "cell_type": "code",
   "execution_count": 3,
   "id": "e9261f1e-7c83-4038-b3d0-ec24a59f12b7",
   "metadata": {},
   "outputs": [
    {
     "ename": "KeyError",
     "evalue": "'No grids were matched with given parameters.'",
     "output_type": "error",
     "traceback": [
      "\u001b[0;31m---------------------------------------------------------------------------\u001b[0m",
      "\u001b[0;31mKeyError\u001b[0m                                  Traceback (most recent call last)",
      "Cell \u001b[0;32mIn[3], line 2\u001b[0m\n\u001b[1;32m      1\u001b[0m plot_time \u001b[38;5;241m=\u001b[39m datetime(\u001b[38;5;241m2024\u001b[39m, \u001b[38;5;241m9\u001b[39m, \u001b[38;5;241m19\u001b[39m, \u001b[38;5;241m12\u001b[39m)\n\u001b[0;32m----> 2\u001b[0m ht500 \u001b[38;5;241m=\u001b[39m \u001b[43mgem_file\u001b[49m\u001b[38;5;241;43m.\u001b[39;49m\u001b[43mgdxarray\u001b[49m\u001b[43m(\u001b[49m\u001b[43mparameter\u001b[49m\u001b[38;5;241;43m=\u001b[39;49m\u001b[38;5;124;43m'\u001b[39;49m\u001b[38;5;124;43mHGHT\u001b[39;49m\u001b[38;5;124;43m'\u001b[39;49m\u001b[43m,\u001b[49m\u001b[43m \u001b[49m\u001b[43mdate_time\u001b[49m\u001b[38;5;241;43m=\u001b[39;49m\u001b[43mplot_time\u001b[49m\u001b[43m,\u001b[49m\u001b[43m \u001b[49m\u001b[43mlevel\u001b[49m\u001b[38;5;241;43m=\u001b[39;49m\u001b[38;5;241;43m800\u001b[39;49m\u001b[43m)\u001b[49m[\u001b[38;5;241m0\u001b[39m]\n\u001b[1;32m      3\u001b[0m u500 \u001b[38;5;241m=\u001b[39m gem_file\u001b[38;5;241m.\u001b[39mgdxarray(parameter\u001b[38;5;241m=\u001b[39m\u001b[38;5;124m'\u001b[39m\u001b[38;5;124mUREL\u001b[39m\u001b[38;5;124m'\u001b[39m, date_time\u001b[38;5;241m=\u001b[39mplot_time, level\u001b[38;5;241m=\u001b[39m\u001b[38;5;241m800\u001b[39m)[\u001b[38;5;241m0\u001b[39m]\n\u001b[1;32m      4\u001b[0m v500 \u001b[38;5;241m=\u001b[39m gem_file\u001b[38;5;241m.\u001b[39mgdxarray(parameter\u001b[38;5;241m=\u001b[39m\u001b[38;5;124m'\u001b[39m\u001b[38;5;124mVREL\u001b[39m\u001b[38;5;124m'\u001b[39m, date_time\u001b[38;5;241m=\u001b[39mplot_time, level\u001b[38;5;241m=\u001b[39m\u001b[38;5;241m800\u001b[39m)[\u001b[38;5;241m0\u001b[39m]\n",
      "File \u001b[0;32m/usr/local/python/3.8/envs/met_course/lib/python3.11/site-packages/metpy/io/gempak.py:1306\u001b[0m, in \u001b[0;36mGempakGrid.gdxarray\u001b[0;34m(self, parameter, date_time, coordinate, level, date_time2, level2)\u001b[0m\n\u001b[1;32m   1303\u001b[0m matched \u001b[38;5;241m=\u001b[39m \u001b[38;5;28mlist\u001b[39m(matched)\n\u001b[1;32m   1305\u001b[0m \u001b[38;5;28;01mif\u001b[39;00m \u001b[38;5;28mlen\u001b[39m(matched) \u001b[38;5;241m<\u001b[39m \u001b[38;5;241m1\u001b[39m:\n\u001b[0;32m-> 1306\u001b[0m     \u001b[38;5;28;01mraise\u001b[39;00m \u001b[38;5;167;01mKeyError\u001b[39;00m(\u001b[38;5;124m'\u001b[39m\u001b[38;5;124mNo grids were matched with given parameters.\u001b[39m\u001b[38;5;124m'\u001b[39m)\n\u001b[1;32m   1308\u001b[0m gridno \u001b[38;5;241m=\u001b[39m [g\u001b[38;5;241m.\u001b[39mGRIDNO \u001b[38;5;28;01mfor\u001b[39;00m g \u001b[38;5;129;01min\u001b[39;00m matched]\n\u001b[1;32m   1310\u001b[0m grids \u001b[38;5;241m=\u001b[39m []\n",
      "\u001b[0;31mKeyError\u001b[0m: 'No grids were matched with given parameters.'"
     ]
    }
   ],
   "source": [
    "plot_time = datetime(2024, 9, 19, 12)\n",
    "ht500 = gem_file.gdxarray(parameter='HGHT', date_time=plot_time, level=800)[0]\n",
    "u500 = gem_file.gdxarray(parameter='UREL', date_time=plot_time, level=800)[0]\n",
    "v500 = gem_file.gdxarray(parameter='VREL', date_time=plot_time, level=800)[0]\n",
    "\n",
    "# Attach units\n",
    "ht500 = ht500 * units('m')\n",
    "u500 = u500 * units('m/s')\n",
    "v500 = v500 * units('m/s')"
   ]
  },
  {
   "cell_type": "markdown",
   "id": "799145fb-7d64-4472-a76b-c5f9ddcd263c",
   "metadata": {},
   "source": [
    "## Calculate Something\n",
    "Generally, we don't need to do all of the work from scratch. Try `mpcalc.<TAB>` or consult the MetPy documentation for all of the calculations provided by MetPy."
   ]
  },
  {
   "cell_type": "code",
   "execution_count": null,
   "id": "d901474e-a5eb-4e56-b9f7-1136a80ff1b1",
   "metadata": {},
   "outputs": [],
   "source": [
    "abs_vort = mpcalc.absolute_vorticity(u500, v500)\n"
   ]
  },
  {
   "cell_type": "markdown",
   "id": "2807954e-f807-4a22-af9a-3e9d6ab51431",
   "metadata": {},
   "source": [
    "## Make a Plot"
   ]
  },
  {
   "cell_type": "markdown",
   "id": "6c7ca001-fe73-43a2-9593-259eabf1160b",
   "metadata": {},
   "source": [
    "Let's overlay 500-mb heights (lines; this time in meters) on top of the vorticity (filled contours)."
   ]
  },
  {
   "cell_type": "code",
   "execution_count": null,
   "id": "ba04d079-0f31-4e0b-9580-55a49285df71",
   "metadata": {},
   "outputs": [],
   "source": [
    "isohypses = ContourPlot()\n",
    "isohypses.data = ht500\n",
    "isohypses.time = plot_time\n",
    "isohypses.contours = range(0, 7000, 60)\n",
    "isohypses.linecolor = 'slategray'\n",
    "isohypses.linestyle = 'solid'\n",
    "isohypses.clabels = True\n",
    "isohypses.plot_units = 'm'\n",
    "\n",
    "fills = FilledContourPlot()\n",
    "fills.data = abs_vort\n",
    "fills.time = plot_time\n",
    "fills.contours = range(0, 40, 4)\n",
    "fills.scale = 1e5\n",
    "fills.colormap = 'prism'\n",
    "fills.colorbar = 'horizontal'\n",
    "\n",
    "panel = MapPanel()\n",
    "panel.area = [-120, -74, 22, 55]\n",
    "panel.projection = 'lcc'\n",
    "panel.layers = ['states', 'coastline', 'borders']\n",
    "panel.title = f'500-mb Heights at {plot_time}'\n",
    "panel.plots = [fills, isohypses]\n",
    "\n",
    "pc = PanelContainer()\n",
    "pc.size = (15, 15)\n",
    "pc.panels = [panel]\n",
    "pc.show()"
   ]
  },
  {
   "cell_type": "markdown",
   "id": "d3a34e67-4fe6-4d9c-aff4-362f8b099fd9",
   "metadata": {},
   "source": [
    "## Example 2: Temperature Advection\n",
    "\n",
    "### Grab the data\n",
    "Let's plot temperature advection at 850-mb."
   ]
  },
  {
   "cell_type": "code",
   "execution_count": null,
   "id": "173354d5-fe90-491a-a43e-2d1462e97c8c",
   "metadata": {},
   "outputs": [],
   "source": [
    "tmpk = gem_file.gdxarray(parameter='TMPK', date_time=plot_time, level=850)[0]\n",
    "urel = gem_file.gdxarray(parameter='UREL', date_time=plot_time, level=850)[0]\n",
    "vrel = gem_file.gdxarray(parameter='VREL', date_time=plot_time, level=850)[0]\n",
    "hght = gem_file.gdxarray(parameter='HGHT', date_time=plot_time, level=850)[0]\n",
    "\n",
    "tmpk = tmpk * units('degK')\n",
    "urel = urel * units('m/s')\n",
    "vrel = vrel * units('m/s')\n",
    "hght = hght * units('m')"
   ]
  },
  {
   "cell_type": "markdown",
   "id": "00ff6b30-9d73-4e31-a36c-3357160de69f",
   "metadata": {},
   "source": [
    "### Calculate advection"
   ]
  },
  {
   "cell_type": "code",
   "execution_count": null,
   "id": "c787a2bb-73e7-4c7e-8705-13c50adddc35",
   "metadata": {},
   "outputs": [],
   "source": [
    "temp_adv = mpcalc.advection(tmpk, urel, vrel)"
   ]
  },
  {
   "cell_type": "markdown",
   "id": "a420a855-319e-44c3-a8ea-de5182781eab",
   "metadata": {},
   "source": [
    "### Plot it\n",
    "When plotting a quantity (like advection) where we care about the positives and negatives and not really the values near zero, a \"diverging\" colormap often works well."
   ]
  },
  {
   "cell_type": "code",
   "execution_count": null,
   "id": "f9fcd108-412c-4663-b837-11d68c03cc7d",
   "metadata": {},
   "outputs": [],
   "source": [
    "isohypses = ContourPlot()\n",
    "isohypses.data = hght\n",
    "isohypses.time = plot_time\n",
    "isohypses.contours = range(0, 400, 3)\n",
    "isohypses.linecolor = 'dimgray'\n",
    "isohypses.linestyle = 'solid'\n",
    "isohypses.clabels = True\n",
    "isohypses.plot_units = 'dam'\n",
    "\n",
    "fills = FilledContourPlot()\n",
    "fills.data = temp_adv\n",
    "fills.time = plot_time\n",
    "fills.contours = np.arange(-7.5,7.6).tolist()\n",
    "fills.scale = 1e4\n",
    "fills.colormap = 'gist_ncar'\n",
    "fills.colorbar = 'horizontal'\n",
    "\n",
    "panel = MapPanel()\n",
    "panel.area = [-120, -74, 22, 55]\n",
    "panel.projection = 'lcc'\n",
    "panel.layers = ['states', 'coastline', 'borders']\n",
    "panel.title = f'850-mb Heights and Temp. Adv. at {plot_time}'\n",
    "panel.plots = [fills, isohypses]\n",
    "\n",
    "pc = PanelContainer()\n",
    "pc.size = (15, 15)\n",
    "pc.panels = [panel]\n",
    "pc.show()"
   ]
  },
  {
   "cell_type": "code",
   "execution_count": null,
   "id": "a3a8b796-241c-416d-8a93-a231f7b906ac",
   "metadata": {},
   "outputs": [],
   "source": []
  }
 ],
 "metadata": {
  "kernelspec": {
   "display_name": "Python 3 (met_course)",
   "language": "python",
   "name": "python3-met_course"
  },
  "language_info": {
   "codemirror_mode": {
    "name": "ipython",
    "version": 3
   },
   "file_extension": ".py",
   "mimetype": "text/x-python",
   "name": "python",
   "nbconvert_exporter": "python",
   "pygments_lexer": "ipython3",
   "version": "3.11.7"
  }
 },
 "nbformat": 4,
 "nbformat_minor": 5
}
