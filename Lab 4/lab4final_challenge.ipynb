{
 "cells": [
  {
   "cell_type": "markdown",
   "id": "d322304b-2e57-46de-9b8f-25aee5fcac20",
   "metadata": {},
   "source": [
    "# The Imports"
   ]
  },
  {
   "cell_type": "code",
   "execution_count": 1,
   "id": "d464ea6c-fee0-459f-a5c5-1cbc42f9cd6f",
   "metadata": {},
   "outputs": [],
   "source": [
    "import sys\n",
    "sys.path.append('/home/decker/lab433')\n",
    "\n",
    "from synoptic import MODEL, display_grids\n",
    "\n",
    "from datetime import datetime\n",
    "\n",
    "import xarray as xr\n",
    "from metpy.io import GempakGrid\n",
    "from metpy.units import units\n",
    "from metpy.plots import ContourPlot, FilledContourPlot, BarbPlot, MapPanel, PanelContainer\n",
    "import metpy.calc as mpcalc"
   ]
  },
  {
   "cell_type": "markdown",
   "id": "a9ddb607-912b-45ab-93b2-62d8785e961d",
   "metadata": {},
   "source": [
    "# Get the Data"
   ]
  },
  {
   "cell_type": "code",
   "execution_count": 2,
   "id": "1b15c8dd-9f36-48de-93df-9feb3edc8a54",
   "metadata": {},
   "outputs": [],
   "source": [
    "gem_file_name = MODEL + 'nam/24092512_nam211.gem'\n",
    "gem_file = GempakGrid(gem_file_name)"
   ]
  },
  {
   "cell_type": "markdown",
   "id": "2c1fbb02-1622-4136-b3e0-d14240684e47",
   "metadata": {},
   "source": [
    "As always, when looking at data for the first time, it is a good idea to see just what it looks like."
   ]
  },
  {
   "cell_type": "code",
   "execution_count": 3,
   "id": "81d29b53-6086-4c7e-9745-c552c453915e",
   "metadata": {
    "tags": []
   },
   "outputs": [],
   "source": [
    "list_of_grids = gem_file.gdinfo()"
   ]
  },
  {
   "cell_type": "markdown",
   "id": "f0c38fbf-7f47-45cc-8466-5dbb8d240326",
   "metadata": {},
   "source": [
    "Now we get down to the business of picking out the data we want. What's the time, what level in the atmosphere, what is the parameter called, etc. Because `gdxarray` always returns a list, we use `[0]` to grab the first (and only, at least for this request!) item from the list."
   ]
  },
  {
   "cell_type": "markdown",
   "id": "4d0649a1-fb0c-4539-b03d-c12dfab11792",
   "metadata": {},
   "source": [
    "MetPy can do a lot of automatic unit conversions, but the GEMPAK data comes in without units. Let's fix that."
   ]
  },
  {
   "cell_type": "markdown",
   "id": "799145fb-7d64-4472-a76b-c5f9ddcd263c",
   "metadata": {},
   "source": [
    "# Calculate Something\n",
    "In this case, we are just plotting the data as is (aside from unit conversions), so no calculations yet.\n",
    "\n",
    "# Plot It\n",
    "## What are we plotting?"
   ]
  },
  {
   "cell_type": "markdown",
   "id": "6c7ca001-fe73-43a2-9593-259eabf1160b",
   "metadata": {},
   "source": [
    "We can use `help(ContourPlot)` to learn about the attributes that can be specified in the next cell. Notice that we are requesting an automatic unit conversion here."
   ]
  },
  {
   "cell_type": "code",
   "execution_count": 4,
   "id": "ba04d079-0f31-4e0b-9580-55a49285df71",
   "metadata": {},
   "outputs": [
    {
     "ename": "NameError",
     "evalue": "name 'ht500' is not defined",
     "output_type": "error",
     "traceback": [
      "\u001b[0;31m---------------------------------------------------------------------------\u001b[0m",
      "\u001b[0;31mNameError\u001b[0m                                 Traceback (most recent call last)",
      "Cell \u001b[0;32mIn[4], line 2\u001b[0m\n\u001b[1;32m      1\u001b[0m cp \u001b[38;5;241m=\u001b[39m ContourPlot()\n\u001b[0;32m----> 2\u001b[0m cp\u001b[38;5;241m.\u001b[39mdata \u001b[38;5;241m=\u001b[39m \u001b[43mht500\u001b[49m\u001b[38;5;241m.\u001b[39misel(x\u001b[38;5;241m=\u001b[39m\u001b[38;5;28mrange\u001b[39m(\u001b[38;5;241m20\u001b[39m,\u001b[38;5;241m80\u001b[39m))\n\u001b[1;32m      3\u001b[0m cp\u001b[38;5;241m.\u001b[39mtime \u001b[38;5;241m=\u001b[39m plot_time\n\u001b[1;32m      4\u001b[0m cp\u001b[38;5;241m.\u001b[39mcontours \u001b[38;5;241m=\u001b[39m \u001b[38;5;28mrange\u001b[39m(\u001b[38;5;241m0\u001b[39m, \u001b[38;5;241m700\u001b[39m, \u001b[38;5;241m6\u001b[39m)\n",
      "\u001b[0;31mNameError\u001b[0m: name 'ht500' is not defined"
     ]
    }
   ],
   "source": [
    "cp = ContourPlot()\n",
    "cp.data = ht500.isel(x=range(20,80))\n",
    "cp.time = plot_time\n",
    "cp.contours = range(0, 700, 6)\n",
    "cp.linecolor = 'mediumvioletred'\n",
    "cp.linestyle = 'solid'\n",
    "cp.clabels = True\n",
    "cp.plot_units = 'dam'"
   ]
  },
  {
   "cell_type": "markdown",
   "id": "f4fe55b0-fccf-43ac-82da-ccd9080a0c7f",
   "metadata": {},
   "source": [
    "## Where are we plotting?"
   ]
  },
  {
   "cell_type": "code",
   "execution_count": null,
   "id": "e6d47aae-4a63-4204-bb90-b245d1a45c75",
   "metadata": {},
   "outputs": [],
   "source": [
    "panel = MapPanel()\n",
    "panel.area = [-120, -74, 22, 55]\n",
    "panel.projection = 'lcc'\n",
    "panel.layers = ['states', 'coastline', 'borders']\n",
    "panel.title = f'500-mb Heights at {plot_time}'\n",
    "panel.plots = [cp]"
   ]
  },
  {
   "cell_type": "markdown",
   "id": "15a047aa-7ac0-4dac-a40b-d8035a4bc7cc",
   "metadata": {},
   "source": [
    "## Display the Plot"
   ]
  },
  {
   "cell_type": "code",
   "execution_count": null,
   "id": "dbc2789d-616c-49e4-8bb8-2bc597c7a435",
   "metadata": {},
   "outputs": [],
   "source": [
    "pc = PanelContainer()\n",
    "pc.size = (15, 15)\n",
    "pc.panels = [panel]\n",
    "pc.show()"
   ]
  },
  {
   "cell_type": "markdown",
   "id": "661e7317-8419-4c9d-aeda-9bb8765ecfa7",
   "metadata": {},
   "source": [
    "# Example 2: Filled Contours\n",
    "Now we will show an example of plotting filled contours, using the 500-mb temperature. This example also shows how we can overlay additional contours on top."
   ]
  },
  {
   "cell_type": "code",
   "execution_count": null,
   "id": "1058e0ee-8490-40f9-9316-59827ffaaae8",
   "metadata": {},
   "outputs": [],
   "source": [
    "t500 = gem_file.gdxarray(parameter='TMPK', date_time=plot_time, level=500)[0]"
   ]
  },
  {
   "cell_type": "code",
   "execution_count": null,
   "id": "6b4eb6b6-17a6-4696-a3f8-ffc9dd58d0ef",
   "metadata": {},
   "outputs": [],
   "source": [
    "t500 = t500 * units('degK')"
   ]
  },
  {
   "cell_type": "code",
   "execution_count": null,
   "id": "04c357d9-2983-4433-8202-f8c8b6b2e36d",
   "metadata": {},
   "outputs": [],
   "source": [
    "fill = FilledContourPlot()\n",
    "fill.data = t500\n",
    "fill.time = plot_time\n",
    "fill.contours = range(-20, 10, 5)\n",
    "fill.colormap = 'twilight'\n",
    "fill.colorbar = 'horizontal'\n",
    "fill.plot_units = 'degC'"
   ]
  },
  {
   "cell_type": "markdown",
   "id": "1574b2fa-6312-4bc2-b5d2-77f2a159f47a",
   "metadata": {},
   "source": [
    "Although we previously constructed a `ContourPlot` object in the first example, that object was \"consumed\" when we made the previous plot with `pc.show()`. We need to recreate it from scratch."
   ]
  },
  {
   "cell_type": "code",
   "execution_count": null,
   "id": "4954840b-e35b-427f-83b9-b85a903c45bd",
   "metadata": {},
   "outputs": [],
   "source": [
    "cp = ContourPlot()\n",
    "cp.data = ht500\n",
    "cp.time = plot_time\n",
    "cp.contours = range(460, 700, 6)\n",
    "cp.linecolor = 'lime'\n",
    "cp.linestyle = 'solid'\n",
    "cp.clabels = True\n",
    "cp.plot_units = 'dam'"
   ]
  },
  {
   "cell_type": "code",
   "execution_count": null,
   "id": "abe09277-e8cc-4bc8-8da1-2e9096835287",
   "metadata": {},
   "outputs": [],
   "source": [
    "panel = MapPanel()\n",
    "panel.area = [-120, -74, 22, 55]\n",
    "panel.projection = 'lcc'\n",
    "panel.layers = ['states', 'coastline', 'borders']\n",
    "panel.title = f'500-mb Heights and Temperatures at {plot_time}'\n",
    "panel.plots = [fill, cp]"
   ]
  },
  {
   "cell_type": "code",
   "execution_count": null,
   "id": "4d168dbc-d377-4d1e-b5fb-b38aee78c177",
   "metadata": {},
   "outputs": [],
   "source": [
    "pc = PanelContainer()\n",
    "pc.size = (15, 15)\n",
    "pc.panels = [panel]\n",
    "pc.show()"
   ]
  },
  {
   "cell_type": "markdown",
   "id": "f7f8c5c2-3821-4310-8df6-7e32164eb6f8",
   "metadata": {},
   "source": [
    "# Example 3: Wind Barbs\n",
    "This time we will add wind barbs to the plot."
   ]
  },
  {
   "cell_type": "code",
   "execution_count": 5,
   "id": "01b751e6-7f9d-4023-9e9a-76952bf80ca9",
   "metadata": {},
   "outputs": [
    {
     "ename": "NameError",
     "evalue": "name 'plot_time' is not defined",
     "output_type": "error",
     "traceback": [
      "\u001b[0;31m---------------------------------------------------------------------------\u001b[0m",
      "\u001b[0;31mNameError\u001b[0m                                 Traceback (most recent call last)",
      "Cell \u001b[0;32mIn[5], line 1\u001b[0m\n\u001b[0;32m----> 1\u001b[0m u500 \u001b[38;5;241m=\u001b[39m gem_file\u001b[38;5;241m.\u001b[39mgdxarray(parameter\u001b[38;5;241m=\u001b[39m\u001b[38;5;124m'\u001b[39m\u001b[38;5;124mUREL\u001b[39m\u001b[38;5;124m'\u001b[39m, date_time\u001b[38;5;241m=\u001b[39m\u001b[43mplot_time\u001b[49m, level\u001b[38;5;241m=\u001b[39m\u001b[38;5;241m500\u001b[39m)[\u001b[38;5;241m0\u001b[39m]\n\u001b[1;32m      2\u001b[0m v500 \u001b[38;5;241m=\u001b[39m gem_file\u001b[38;5;241m.\u001b[39mgdxarray(parameter\u001b[38;5;241m=\u001b[39m\u001b[38;5;124m'\u001b[39m\u001b[38;5;124mVREL\u001b[39m\u001b[38;5;124m'\u001b[39m, date_time\u001b[38;5;241m=\u001b[39mplot_time, level\u001b[38;5;241m=\u001b[39m\u001b[38;5;241m500\u001b[39m)[\u001b[38;5;241m0\u001b[39m]\n\u001b[1;32m      3\u001b[0m u500 \u001b[38;5;241m=\u001b[39m u500 \u001b[38;5;241m*\u001b[39m units(\u001b[38;5;124m'\u001b[39m\u001b[38;5;124mm/s\u001b[39m\u001b[38;5;124m'\u001b[39m)\n",
      "\u001b[0;31mNameError\u001b[0m: name 'plot_time' is not defined"
     ]
    }
   ],
   "source": [
    "u500 = gem_file.gdxarray(parameter='UREL', date_time=plot_time, level=500)[0]\n",
    "v500 = gem_file.gdxarray(parameter='VREL', date_time=plot_time, level=500)[0]\n",
    "u500 = u500 * units('m/s')\n",
    "v500 = v500 * units('m/s')\n",
    "\n",
    "ht1000 = gem_file.gdxarray(parameter='HGHT', date_time=plot_time, level=1000)[0] *units ('m')\n",
    "ht500 = gem_file.gdxarray(parameter='HGHT', date_time=plot_time, level=500)[0] *units ('m')\n",
    "\n",
    "ht500 = mpcalc.smooth_gaussian(ht500, 12)\n",
    "ht1000 = mpcalc.smooth_gaussian(ht1000, 12)\n",
    "\n",
    "ug500, vg500 = mpcalc.geostrophic_wind(ht500)\n",
    "ug1000, vg1000 = mpcalc.geostrophic_wind(ht1000)\n",
    "\n",
    "vt_i = ug500.squeeze(dim='pres') - ug1000.squeeze(dim='pres')\n",
    "vt_j = vg500.squeeze(dim='pres') - vg1000.squeeze(dim='pres')\n",
    "\n",
    "zetag_plus_f = mpcalc.absolute_vorticity(ug500, vg500)\n",
    "zetag_zero = mpcalc.vorticity(ug1000, vg1000)\n",
    "\n",
    "term_in_parenthesis = (zetag_plus_f.squeeze(dim='pres') + zetag_zero.squeeze(dim='pres'))\n",
    "\n",
    "answer = mpcalc.advection(term_in_parenthesis, vt_i, vt_j)"
   ]
  },
  {
   "cell_type": "code",
   "execution_count": 6,
   "id": "67fdfb0d-cbff-4efc-861f-0f85df43b946",
   "metadata": {},
   "outputs": [
    {
     "ename": "NameError",
     "evalue": "name 'u500' is not defined",
     "output_type": "error",
     "traceback": [
      "\u001b[0;31m---------------------------------------------------------------------------\u001b[0m",
      "\u001b[0;31mNameError\u001b[0m                                 Traceback (most recent call last)",
      "Cell \u001b[0;32mIn[6], line 1\u001b[0m\n\u001b[0;32m----> 1\u001b[0m wind \u001b[38;5;241m=\u001b[39m xr\u001b[38;5;241m.\u001b[39mmerge([\u001b[43mu500\u001b[49m, v500])\n\u001b[1;32m      2\u001b[0m wind\n",
      "\u001b[0;31mNameError\u001b[0m: name 'u500' is not defined"
     ]
    }
   ],
   "source": [
    "wind = xr.merge([u500, v500])\n",
    "wind"
   ]
  },
  {
   "cell_type": "code",
   "execution_count": null,
   "id": "d925565d-bd93-4a05-8223-f683d7578680",
   "metadata": {},
   "outputs": [],
   "source": [
    "barbs = BarbPlot()\n",
    "barbs.data = wind\n",
    "barbs.time = plot_time\n",
    "barbs.field = ['urel', 'vrel']\n",
    "barbs.earth_relative = False\n",
    "barbs.skip = (3, 3)\n",
    "barbs.plot_units = 'knot'"
   ]
  },
  {
   "cell_type": "code",
   "execution_count": null,
   "id": "9c339852-bef2-4b21-8b4e-bcdf8abed015",
   "metadata": {},
   "outputs": [],
   "source": [
    "cp = ContourPlot()\n",
    "cp.data = answer\n",
    "cp.time = plot_time\n",
    "cp.contours = range(0, 10, 1)\n",
    "cp.linecolor = 'mediumturquoise'\n",
    "cp.linestyle = 'solid'\n",
    "cp.clabels = True\n",
    "cp.scale = 1e9"
   ]
  },
  {
   "cell_type": "code",
   "execution_count": null,
   "id": "f575f817-cf70-4187-989a-929296f34202",
   "metadata": {},
   "outputs": [],
   "source": [
    "panel = MapPanel()\n",
    "panel.area = [-120, -74, 22, 55]\n",
    "panel.projection = 'lcc'\n",
    "panel.layers = ['states', 'coastline', 'borders']\n",
    "panel.title = f'500-mb Heights and Winds at {plot_time}'\n",
    "panel.plots = [cp]"
   ]
  },
  {
   "cell_type": "code",
   "execution_count": null,
   "id": "c0922e6c-4a52-4c1f-a69b-54006480d1cc",
   "metadata": {},
   "outputs": [],
   "source": [
    "pc = PanelContainer()\n",
    "pc.size = (15, 15)\n",
    "pc.panels = [panel]\n",
    "pc.show()"
   ]
  },
  {
   "cell_type": "code",
   "execution_count": null,
   "id": "6c137f0e-b09a-4ac7-9077-a67925dfdaa7",
   "metadata": {},
   "outputs": [],
   "source": []
  }
 ],
 "metadata": {
  "kernelspec": {
   "display_name": "Python 3 (met_course)",
   "language": "python",
   "name": "python3-met_course"
  },
  "language_info": {
   "codemirror_mode": {
    "name": "ipython",
    "version": 3
   },
   "file_extension": ".py",
   "mimetype": "text/x-python",
   "name": "python",
   "nbconvert_exporter": "python",
   "pygments_lexer": "ipython3",
   "version": "3.11.7"
  }
 },
 "nbformat": 4,
 "nbformat_minor": 5
}
