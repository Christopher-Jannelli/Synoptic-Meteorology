{
 "cells": [
  {
   "cell_type": "markdown",
   "id": "d322304b-2e57-46de-9b8f-25aee5fcac20",
   "metadata": {},
   "source": [
    "# A Four-Panel Plot\n",
    "\n",
    "This notebook demonstrates the creation of a four-panel plot. We will plot the 300-mb heights and wind speeds at forecast hours 12, 24, 36, and 48 from today's 12Z NAM on Grid 211."
   ]
  },
  {
   "cell_type": "code",
   "execution_count": 1,
   "id": "d464ea6c-fee0-459f-a5c5-1cbc42f9cd6f",
   "metadata": {},
   "outputs": [],
   "source": [
    "import sys\n",
    "sys.path.append('/home/decker/lab433')\n",
    "\n",
    "from synoptic import MODEL\n",
    "\n",
    "from datetime import datetime, timedelta\n",
    "\n",
    "import xarray as xr\n",
    "from metpy.io import GempakGrid\n",
    "from metpy.units import units\n",
    "from metpy.plots import ContourPlot, FilledContourPlot, MapPanel, PanelContainer\n",
    "import metpy.calc as mpcalc"
   ]
  },
  {
   "cell_type": "markdown",
   "id": "a9ddb607-912b-45ab-93b2-62d8785e961d",
   "metadata": {},
   "source": [
    "## Get the Data and Generate Contours\n",
    "\n",
    "In this case, we are plotting the same thing, but at four different times.  To avoid code repetition, we can use a for loop and move the data ingest and contour creation steps into the loop. (We would not use a for loop if we were plotting four different panels all at the same time.)"
   ]
  },
  {
   "cell_type": "code",
   "execution_count": 2,
   "id": "051ce5c2-f92c-477b-9d31-a3d7dc3915f7",
   "metadata": {},
   "outputs": [
    {
     "ename": "FileNotFoundError",
     "evalue": "[Errno 2] No such file or directory: '/ldmdata/gempak/model/nam/24092512_nam211.gem'",
     "output_type": "error",
     "traceback": [
      "\u001b[0;31m---------------------------------------------------------------------------\u001b[0m",
      "\u001b[0;31mFileNotFoundError\u001b[0m                         Traceback (most recent call last)",
      "Cell \u001b[0;32mIn[2], line 2\u001b[0m\n\u001b[1;32m      1\u001b[0m gem_file_name \u001b[38;5;241m=\u001b[39m MODEL \u001b[38;5;241m+\u001b[39m \u001b[38;5;124m'\u001b[39m\u001b[38;5;124mnam/24092512_nam211.gem\u001b[39m\u001b[38;5;124m'\u001b[39m\n\u001b[0;32m----> 2\u001b[0m gem_file \u001b[38;5;241m=\u001b[39m \u001b[43mGempakGrid\u001b[49m\u001b[43m(\u001b[49m\u001b[43mgem_file_name\u001b[49m\u001b[43m)\u001b[49m\n\u001b[1;32m      3\u001b[0m init_time \u001b[38;5;241m=\u001b[39m datetime(\u001b[38;5;241m2024\u001b[39m, \u001b[38;5;241m9\u001b[39m, \u001b[38;5;241m25\u001b[39m, \u001b[38;5;241m12\u001b[39m)\n",
      "File \u001b[0;32m/usr/local/python/3.8/envs/met_course/lib/python3.11/site-packages/metpy/io/gempak.py:916\u001b[0m, in \u001b[0;36mGempakGrid.__init__\u001b[0;34m(self, file, *args, **kwargs)\u001b[0m\n\u001b[1;32m    915\u001b[0m \u001b[38;5;28;01mdef\u001b[39;00m \u001b[38;5;21m__init__\u001b[39m(\u001b[38;5;28mself\u001b[39m, file, \u001b[38;5;241m*\u001b[39margs, \u001b[38;5;241m*\u001b[39m\u001b[38;5;241m*\u001b[39mkwargs):\n\u001b[0;32m--> 916\u001b[0m     \u001b[38;5;28;43msuper\u001b[39;49m\u001b[43m(\u001b[49m\u001b[43m)\u001b[49m\u001b[38;5;241;43m.\u001b[39;49m\u001b[38;5;21;43m__init__\u001b[39;49m\u001b[43m(\u001b[49m\u001b[43mfile\u001b[49m\u001b[43m)\u001b[49m\n\u001b[1;32m    918\u001b[0m     datetime_names \u001b[38;5;241m=\u001b[39m [\u001b[38;5;124m'\u001b[39m\u001b[38;5;124mGDT1\u001b[39m\u001b[38;5;124m'\u001b[39m, \u001b[38;5;124m'\u001b[39m\u001b[38;5;124mGDT2\u001b[39m\u001b[38;5;124m'\u001b[39m]\n\u001b[1;32m    919\u001b[0m     level_names \u001b[38;5;241m=\u001b[39m [\u001b[38;5;124m'\u001b[39m\u001b[38;5;124mGLV1\u001b[39m\u001b[38;5;124m'\u001b[39m, \u001b[38;5;124m'\u001b[39m\u001b[38;5;124mGLV2\u001b[39m\u001b[38;5;124m'\u001b[39m]\n",
      "File \u001b[0;32m/usr/local/python/3.8/envs/met_course/lib/python3.11/site-packages/metpy/io/gempak.py:622\u001b[0m, in \u001b[0;36mGempakFile.__init__\u001b[0;34m(self, file)\u001b[0m\n\u001b[1;32m    620\u001b[0m \u001b[38;5;28;01mdef\u001b[39;00m \u001b[38;5;21m__init__\u001b[39m(\u001b[38;5;28mself\u001b[39m, file):\n\u001b[1;32m    621\u001b[0m \u001b[38;5;250m    \u001b[39m\u001b[38;5;124;03m\"\"\"Instantiate GempakFile object from file.\"\"\"\u001b[39;00m\n\u001b[0;32m--> 622\u001b[0m     fobj \u001b[38;5;241m=\u001b[39m \u001b[43mopen_as_needed\u001b[49m\u001b[43m(\u001b[49m\u001b[43mfile\u001b[49m\u001b[43m)\u001b[49m\n\u001b[1;32m    624\u001b[0m     \u001b[38;5;28;01mwith\u001b[39;00m contextlib\u001b[38;5;241m.\u001b[39mclosing(fobj):\n\u001b[1;32m    625\u001b[0m         \u001b[38;5;28mself\u001b[39m\u001b[38;5;241m.\u001b[39m_buffer \u001b[38;5;241m=\u001b[39m IOBuffer\u001b[38;5;241m.\u001b[39mfromfile(fobj)\n",
      "File \u001b[0;32m/usr/local/python/3.8/envs/met_course/lib/python3.11/site-packages/metpy/io/_tools.py:57\u001b[0m, in \u001b[0;36mopen_as_needed\u001b[0;34m(filename, mode)\u001b[0m\n\u001b[1;32m     55\u001b[0m \u001b[38;5;28;01melse\u001b[39;00m:\n\u001b[1;32m     56\u001b[0m     kwargs \u001b[38;5;241m=\u001b[39m {\u001b[38;5;124m'\u001b[39m\u001b[38;5;124merrors\u001b[39m\u001b[38;5;124m'\u001b[39m: \u001b[38;5;124m'\u001b[39m\u001b[38;5;124msurrogateescape\u001b[39m\u001b[38;5;124m'\u001b[39m} \u001b[38;5;28;01mif\u001b[39;00m mode \u001b[38;5;241m!=\u001b[39m \u001b[38;5;124m'\u001b[39m\u001b[38;5;124mrb\u001b[39m\u001b[38;5;124m'\u001b[39m \u001b[38;5;28;01melse\u001b[39;00m {}\n\u001b[0;32m---> 57\u001b[0m     \u001b[38;5;28;01mreturn\u001b[39;00m \u001b[38;5;28;43mopen\u001b[39;49m\u001b[43m(\u001b[49m\u001b[43mfilename\u001b[49m\u001b[43m,\u001b[49m\u001b[43m \u001b[49m\u001b[43mmode\u001b[49m\u001b[43m,\u001b[49m\u001b[43m \u001b[49m\u001b[38;5;241;43m*\u001b[39;49m\u001b[38;5;241;43m*\u001b[39;49m\u001b[43mkwargs\u001b[49m\u001b[43m)\u001b[49m\n",
      "\u001b[0;31mFileNotFoundError\u001b[0m: [Errno 2] No such file or directory: '/ldmdata/gempak/model/nam/24092512_nam211.gem'"
     ]
    }
   ],
   "source": [
    "gem_file_name = MODEL + 'nam/24092512_nam211.gem'\n",
    "gem_file = GempakGrid(gem_file_name)\n",
    "init_time = datetime(2024, 9, 25, 12)"
   ]
  },
  {
   "cell_type": "code",
   "execution_count": null,
   "id": "252ad8ca-fdca-4a56-970a-b5944ba1de9f",
   "metadata": {},
   "outputs": [],
   "source": [
    "panel_list = []\n",
    "for i in range(1, 5):\n",
    "    fhr = 12*i\n",
    "    plot_time = init_time + timedelta(hours=fhr)\n",
    "    \n",
    "    # Get data for this time\n",
    "    ht = gem_file.gdxarray(parameter='HGHT', date_time=plot_time, level=300)[0] * units('m')\n",
    "    u = gem_file.gdxarray(parameter='UREL', date_time=plot_time, level=300)[0] * units('m/s')\n",
    "    v = gem_file.gdxarray(parameter='VREL', date_time=plot_time, level=300)[0] * units('m/s')\n",
    "\n",
    "    # Calculation\n",
    "    speed = mpcalc.wind_speed(u, v)\n",
    "    \n",
    "    # Create contours for this time\n",
    "    isotachs = FilledContourPlot()\n",
    "    isotachs.data = speed\n",
    "    isotachs.time = plot_time\n",
    "    isotachs.contours = range(70,200,20)\n",
    "    isotachs.colormap = 'autumn_r'\n",
    "    isotachs.colorbar = 'horizontal'\n",
    "    isotachs.plot_units = 'knot'\n",
    "    \n",
    "    isohypses = ContourPlot()\n",
    "    isohypses.data = ht\n",
    "    isohypses.time = plot_time\n",
    "    isohypses.contours = range(0,1000,12)\n",
    "    isohypses.linecolor = 'darkgreen'\n",
    "    isohypses.linestyle = 'solid'\n",
    "    isohypses.clabels = True\n",
    "    isohypses.plot_units = 'dam'\n",
    "    \n",
    "    # Construct the panel for this time\n",
    "    panel = MapPanel()\n",
    "    panel.layout = (2, 2, i)\n",
    "    panel.area = [-120, -74, 22, 55]\n",
    "    panel.projection = 'lcc'\n",
    "    panel.layers = ['states', 'coastline', 'borders']\n",
    "    panel.title = f'300-mb Heights (dam) and Winds (kt) at {plot_time}'\n",
    "    panel.plots = [isotachs, isohypses]\n",
    "    \n",
    "    panel_list.append(panel)    "
   ]
  },
  {
   "cell_type": "markdown",
   "id": "799145fb-7d64-4472-a76b-c5f9ddcd263c",
   "metadata": {},
   "source": [
    "## Assemble the panels and show the plot"
   ]
  },
  {
   "cell_type": "code",
   "execution_count": null,
   "id": "dbc2789d-616c-49e4-8bb8-2bc597c7a435",
   "metadata": {},
   "outputs": [],
   "source": [
    "pc = PanelContainer()\n",
    "pc.size = (22, 17)\n",
    "pc.panels = panel_list\n",
    "pc.show()"
   ]
  },
  {
   "cell_type": "code",
   "execution_count": null,
   "id": "70973af3-ef69-4e3a-9a84-68092f2f2729",
   "metadata": {},
   "outputs": [],
   "source": [
    "pc.save('4panel.svg', bbox_inches='tight', dpi=300)"
   ]
  },
  {
   "cell_type": "code",
   "execution_count": null,
   "id": "5a63119c-7aa2-4df3-8303-11477ec86ec2",
   "metadata": {},
   "outputs": [],
   "source": []
  }
 ],
 "metadata": {
  "kernelspec": {
   "display_name": "Python 3 (met_course)",
   "language": "python",
   "name": "python3-met_course"
  },
  "language_info": {
   "codemirror_mode": {
    "name": "ipython",
    "version": 3
   },
   "file_extension": ".py",
   "mimetype": "text/x-python",
   "name": "python",
   "nbconvert_exporter": "python",
   "pygments_lexer": "ipython3",
   "version": "3.11.7"
  }
 },
 "nbformat": 4,
 "nbformat_minor": 5
}
